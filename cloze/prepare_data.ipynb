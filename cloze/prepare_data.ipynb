{
 "cells": [
  {
   "cell_type": "code",
   "execution_count": 2,
   "metadata": {},
   "outputs": [],
   "source": [
    "import pandas as pd\n",
    "\n",
    "dev_path = '/Users/jhotz/Downloads/cloze_test_val__spring2016.csv'\n",
    "test_path = '/Users/jhotz/Downloads/cloze_test_test__spring2016.csv'"
   ]
  },
  {
   "cell_type": "code",
   "execution_count": 3,
   "metadata": {},
   "outputs": [],
   "source": [
    "TRAIN_SIZE=1683\n",
    "DEV_SIZE=188\n",
    "\n",
    "df_dev = pd.read_csv(dev_path)\n",
    "df_test = pd.read_csv(test_path)\n",
    "df_dev = df_dev.sample(frac=1).reset_index(drop=True)\n",
    "df_train = df_dev [0:TRAIN_SIZE].reset_index(drop=True)\n",
    "df_dev = df_dev[TRAIN_SIZE:].reset_index(drop=True)"
   ]
  },
  {
   "cell_type": "code",
   "execution_count": 4,
   "metadata": {},
   "outputs": [
    {
     "name": "stdout",
     "output_type": "stream",
     "text": [
      "mkdir: data: File exists\n"
     ]
    }
   ],
   "source": [
    "!mkdir data\n",
    "\n",
    "df_train.to_csv('data/train.csv', index=False)\n",
    "df_dev.to_csv('data/dev.csv', index=False)\n",
    "df_test.to_csv('data/test.csv', index=False)"
   ]
  }
 ],
 "metadata": {
  "kernelspec": {
   "display_name": "Python 3.10.7 ('env': venv)",
   "language": "python",
   "name": "python3"
  },
  "language_info": {
   "codemirror_mode": {
    "name": "ipython",
    "version": 3
   },
   "file_extension": ".py",
   "mimetype": "text/x-python",
   "name": "python",
   "nbconvert_exporter": "python",
   "pygments_lexer": "ipython3",
   "version": "3.10.7"
  },
  "vscode": {
   "interpreter": {
    "hash": "2bf0b5f291ba820a448c3c4fe665e12d7ea538f7f75618c7eb3b0c5d0309c4d4"
   }
  }
 },
 "nbformat": 4,
 "nbformat_minor": 4
}
