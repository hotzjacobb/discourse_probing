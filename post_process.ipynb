{
 "cells": [
  {
   "cell_type": "code",
   "execution_count": 1,
   "metadata": {},
   "outputs": [],
   "source": [
    "import pandas as pd\n",
    "from collections import defaultdict\n",
    "\n",
    "# tasks = ['nsp_choice', 'ordering', 'rst', 'segment', 'dissent', 'cloze']\n",
    "tasks = ['dissent']\n",
    "#models = ['bert', 'roberta', 'albert', 'gpt2', 'electra', 'bart', \\\n",
    "#         'bert-avg', 'albert-avg', 'bert-large', 'bert-zh', 'bert-es', 'bert-de']\n",
    "models = ['t5-base']\n",
    "\n",
    "files = '.'\n",
    "\n",
    "def read_csv(fname):\n",
    "    layers = []; dev = []; test = []\n",
    "    for line in open(fname).readlines()[1:]:\n",
    "        data = line.split(', ')\n",
    "        layers.append(int(data[0]))\n",
    "        dev.append(float(data[1]))\n",
    "        test.append(float(data[2]))\n",
    "    df = pd.DataFrame()\n",
    "    df['layers']=layers\n",
    "    df['dev']=dev\n",
    "    df['test']=test\n",
    "    return df"
   ]
  },
  {
   "cell_type": "code",
   "execution_count": 2,
   "metadata": {},
   "outputs": [],
   "source": [
    "outputs = defaultdict(list)\n",
    "\n",
    "for output in ['output1', 'output2', 'output3']:\n",
    "    for task in tasks:\n",
    "        if task == 'rst':\n",
    "            for model in models:\n",
    "                fname1 = f'{files}/{task}/{output}/{model}_nuclearity.csv'\n",
    "                data1 = read_csv(fname1)\n",
    "                for idx, row in data1.iterrows():\n",
    "                    key = (task+'_nuclearity',model,row['layers'])\n",
    "                    outputs[key].append(row['test'])\n",
    "                \n",
    "                fname2 = f'{files}/{task}/{output}/{model}_relation.csv'\n",
    "                data2 = read_csv(fname2)\n",
    "                for idx, row in data2.iterrows():\n",
    "                    key = (task+'_relation',model,row['layers'])\n",
    "                    outputs[key].append(row['test'])\n",
    "                \n",
    "        else:\n",
    "            for model in models:\n",
    "                fname = f'{files}/{task}/{output}/{model}.csv'\n",
    "                try:\n",
    "                    data = read_csv(fname)\n",
    "                except:\n",
    "                    print(fname)\n",
    "                    continue\n",
    "                for idx, row in data.iterrows():\n",
    "                    key = (task,model,row['layers'])\n",
    "                    outputs[key].append(row['test'])"
   ]
  },
  {
   "cell_type": "code",
   "execution_count": 3,
   "metadata": {},
   "outputs": [
    {
     "name": "stdout",
     "output_type": "stream",
     "text": [
      "{('dissent', 't5-base', 1.0): [0.432, 0.00637704215656967], ('dissent', 't5-base', 2.0): [0.4663333333333333, 0.0038586123009300612], ('dissent', 't5-base', 3.0): [0.48166666666666663, 0.004784233364802446], ('dissent', 't5-base', 4.0): [0.5046666666666667, 0.0016996731711975963], ('dissent', 't5-base', 5.0): [0.511, 0.004242640687119289], ('dissent', 't5-base', 6.0): [0.5226666666666667, 0.002624669291337273]}\n"
     ]
    }
   ],
   "source": [
    "mean_std = {}\n",
    "import numpy as np\n",
    "for key in outputs.keys():\n",
    "    mean = np.mean(outputs[key])\n",
    "    std = np.std(outputs[key])\n",
    "    mean_std[key] = [mean, std]\n",
    "print(mean_std)"
   ]
  },
  {
   "cell_type": "code",
   "execution_count": 4,
   "metadata": {},
   "outputs": [],
   "source": [
    "unique = []\n",
    "for key in mean_std.keys():\n",
    "    unique.append(key[0])\n",
    "updated_tasks = list(set(unique))"
   ]
  },
  {
   "cell_type": "code",
   "execution_count": 5,
   "metadata": {},
   "outputs": [],
   "source": [
    "# key2col = {\n",
    "#     'nsp_choice': 'NSP with 4 MC',\n",
    "#     'ordering': 'Sent. Ordering',\n",
    "#     'dissent': 'Discourse Connective',\n",
    "#     'rst_nuclearity': 'Nuclearity',\n",
    "#     'rst_relation': 'Relation',\n",
    "#     'segment': 'EDU segmentation',\n",
    "#     'cloze': 'Cloze'\n",
    "# }\n",
    "key2col = {\n",
    "    'dissent': 'Discourse Connective'\n",
    "}"
   ]
  },
  {
   "cell_type": "code",
   "execution_count": 6,
   "metadata": {},
   "outputs": [
    {
     "name": "stdout",
     "output_type": "stream",
     "text": [
      "mkdir: RESULT/MEAN: File exists\n",
      "mkdir: RESULT/STD: File exists\n"
     ]
    }
   ],
   "source": [
    "!mkdir 'RESULT/MEAN'\n",
    "!mkdir 'RESULT/STD'"
   ]
  },
  {
   "cell_type": "code",
   "execution_count": 7,
   "metadata": {},
   "outputs": [
    {
     "name": "stdout",
     "output_type": "stream",
     "text": [
      "('dissent', 't5-base', 1)\n",
      "0.432\n",
      "('dissent', 't5-base', 2)\n",
      "0.4663333333333333\n",
      "('dissent', 't5-base', 3)\n",
      "0.48166666666666663\n",
      "('dissent', 't5-base', 4)\n",
      "0.5046666666666667\n",
      "('dissent', 't5-base', 5)\n",
      "0.511\n",
      "('dissent', 't5-base', 6)\n",
      "0.5226666666666667\n",
      "('dissent', 't5-base', 7)\n",
      "('dissent', 't5-base', 8)\n",
      "('dissent', 't5-base', 9)\n",
      "('dissent', 't5-base', 10)\n",
      "('dissent', 't5-base', 11)\n",
      "('dissent', 't5-base', 12)\n",
      "defaultdict(<class 'list'>, {'Layer': [1, 2, 3, 4, 5, 6], 'Discourse Connective': [0.432, 0.4663333333333333, 0.48166666666666663, 0.5046666666666667, 0.511, 0.5226666666666667]})\n",
      "   Layer\n",
      "0      1\n",
      "1      2\n",
      "2      3\n",
      "3      4\n",
      "4      5\n",
      "5      6\n",
      "   Layer\n",
      "0      1\n",
      "1      2\n",
      "2      3\n",
      "3      4\n",
      "4      5\n",
      "5      6\n"
     ]
    }
   ],
   "source": [
    "def to_file(fname, data):\n",
    "    df = pd.DataFrame()\n",
    "    df['Layer'] = data['Layer']\n",
    "    #print(data)\n",
    "    for key in key2col.values():\n",
    "        if data[key]!= []:\n",
    "            print(df)\n",
    "            df[key] = data[key]\n",
    "        else:\n",
    "            df[key] = [None] * len(data['Layer'])\n",
    "    df.to_csv(fname, index=False)\n",
    "\n",
    "for model in models:\n",
    "    data_mean = defaultdict(list)\n",
    "    data_std =  defaultdict(list)\n",
    "    for task in updated_tasks:\n",
    "        if 'large' in model:\n",
    "            data_mean['Layer'] = list(range(1, 25))\n",
    "            data_std['Layer'] = list(range(1, 25))\n",
    "            for i in range(1,25):\n",
    "                key = (task, model, i)\n",
    "                data_mean[key2col[task]].append(mean_std[key][0]) \n",
    "                data_std[key2col[task]].append(mean_std[key][1]) \n",
    "        else:\n",
    "            # data_mean['Layer'] = list(range(1, 13))\n",
    "            # data_std['Layer'] = list(range(1, 13))\n",
    "            data_mean['Layer'] = list(range(1, 7)) # just test the first six layers of the encoder\n",
    "            data_std['Layer'] = list(range(1, 7))\n",
    "            for i in range(1,13):\n",
    "                try:\n",
    "                    key = (task, model, i)\n",
    "                    print(key)\n",
    "                    print(mean_std[key][0])\n",
    "                    data_mean[key2col[task]].append(mean_std[key][0]) \n",
    "                    data_std[key2col[task]].append(mean_std[key][1]) \n",
    "                except:\n",
    "                    continue\n",
    "                    #print(key)\n",
    "    print(data_mean)\n",
    "    to_file(f'RESULT/MEAN/{model}.csv', data_mean)\n",
    "    to_file(f'RESULT/STD/{model}.csv', data_std)"
   ]
  },
  {
   "cell_type": "code",
   "execution_count": null,
   "metadata": {},
   "outputs": [],
   "source": []
  }
 ],
 "metadata": {
  "kernelspec": {
   "display_name": "Python 3.10.4 ('cpsc_436n_a1')",
   "language": "python",
   "name": "python3"
  },
  "language_info": {
   "codemirror_mode": {
    "name": "ipython",
    "version": 3
   },
   "file_extension": ".py",
   "mimetype": "text/x-python",
   "name": "python",
   "nbconvert_exporter": "python",
   "pygments_lexer": "ipython3",
   "version": "3.10.4"
  },
  "vscode": {
   "interpreter": {
    "hash": "4fe9f86913a5b4c46506c4e23fe512fd97ab224f2698cffcaff73dff9eb5386d"
   }
  }
 },
 "nbformat": 4,
 "nbformat_minor": 4
}
